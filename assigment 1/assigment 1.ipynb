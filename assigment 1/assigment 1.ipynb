{
 "cells": [
  {
   "cell_type": "code",
   "execution_count": 4,
   "id": "f722f1f8",
   "metadata": {},
   "outputs": [
    {
     "name": "stdout",
     "output_type": "stream",
     "text": [
      "i am using jupyter notebook\n"
     ]
    }
   ],
   "source": [
    "print(\"i am using jupyter notebook\");"
   ]
  },
  {
   "cell_type": "code",
   "execution_count": 8,
   "id": "63f35ef7",
   "metadata": {},
   "outputs": [
    {
     "name": "stdout",
     "output_type": "stream",
     "text": [
      "2:49pm\n",
      "1/1/2022\n"
     ]
    }
   ],
   "source": [
    "print(\"2:49pm\");\n",
    "print(\"1/1/2022\");"
   ]
  },
  {
   "cell_type": "code",
   "execution_count": 9,
   "id": "bee2b3c7",
   "metadata": {},
   "outputs": [
    {
     "name": "stdout",
     "output_type": "stream",
     "text": [
      "30\n"
     ]
    }
   ],
   "source": [
    "x=10;\n",
    "y=20;\n",
    "z=x+y;\n",
    "print(z);"
   ]
  },
  {
   "cell_type": "code",
   "execution_count": 18,
   "id": "7efd4e50",
   "metadata": {},
   "outputs": [
    {
     "name": "stdout",
     "output_type": "stream",
     "text": [
      "khan maaz\n"
     ]
    }
   ],
   "source": [
    "a=\"maaz\";\n",
    "b=\"khan \";\n",
    "c=b+a;\n",
    "print(c);"
   ]
  },
  {
   "cell_type": "code",
   "execution_count": 29,
   "id": "3c2fc649",
   "metadata": {},
   "outputs": [
    {
     "name": "stdout",
     "output_type": "stream",
     "text": [
      "Twinkle,twinkle,little star  How i wonder what you are!      Up above the world so high         Like a diamond in the sky              Twinkle,twinkle,little star                How i  wonder what you are                      \n"
     ]
    }
   ],
   "source": [
    "a=(\"Twinkle,twinkle,little star  \");\n",
    "b= (\"How i wonder what you are!      \");\n",
    "c=(\"Up above the world so high         \");\n",
    "d=(\"Like a diamond in the sky              \");\n",
    "e=(\"Twinkle,twinkle,little star                \");\n",
    "f=(\"How i  wonder what you are                      \");\n",
    "g=a+b+c+d+e+f;\n",
    "print(g);\n"
   ]
  },
  {
   "cell_type": "code",
   "execution_count": 35,
   "id": "b20010b4",
   "metadata": {},
   "outputs": [
    {
     "ename": "TypeError",
     "evalue": "can't multiply sequence by non-int of type 'str'",
     "output_type": "error",
     "traceback": [
      "\u001b[1;31m---------------------------------------------------------------------------\u001b[0m",
      "\u001b[1;31mTypeError\u001b[0m                                 Traceback (most recent call last)",
      "\u001b[1;32m<ipython-input-35-505d8db15fad>\u001b[0m in \u001b[0;36m<module>\u001b[1;34m\u001b[0m\n\u001b[0;32m      1\u001b[0m \u001b[0ma\u001b[0m\u001b[1;33m=\u001b[0m\u001b[1;33m(\u001b[0m\u001b[1;34m\"enter the radius of the circle\"\u001b[0m\u001b[1;33m)\u001b[0m\u001b[1;33m\u001b[0m\u001b[1;33m\u001b[0m\u001b[0m\n\u001b[0;32m      2\u001b[0m \u001b[0mb\u001b[0m\u001b[1;33m=\u001b[0m\u001b[1;33m(\u001b[0m\u001b[1;34m\"enter the area of the circle\"\u001b[0m\u001b[1;33m)\u001b[0m\u001b[1;33m;\u001b[0m\u001b[1;33m\u001b[0m\u001b[1;33m\u001b[0m\u001b[0m\n\u001b[1;32m----> 3\u001b[1;33m \u001b[0mc\u001b[0m\u001b[1;33m=\u001b[0m\u001b[0ma\u001b[0m\u001b[1;33m*\u001b[0m\u001b[0mb\u001b[0m\u001b[1;33m;\u001b[0m\u001b[1;33m\u001b[0m\u001b[1;33m\u001b[0m\u001b[0m\n\u001b[0m\u001b[0;32m      4\u001b[0m \u001b[0mprint\u001b[0m\u001b[1;33m(\u001b[0m\u001b[0mc\u001b[0m\u001b[1;33m)\u001b[0m\u001b[1;33m;\u001b[0m\u001b[1;33m\u001b[0m\u001b[1;33m\u001b[0m\u001b[0m\n",
      "\u001b[1;31mTypeError\u001b[0m: can't multiply sequence by non-int of type 'str'"
     ]
    }
   ],
   "source": []
  },
  {
   "cell_type": "code",
   "execution_count": null,
   "id": "2e2b9b70",
   "metadata": {},
   "outputs": [],
   "source": []
  },
  {
   "cell_type": "code",
   "execution_count": null,
   "id": "198e6fca",
   "metadata": {},
   "outputs": [],
   "source": []
  }
 ],
 "metadata": {
  "kernelspec": {
   "display_name": "Python 3",
   "language": "python",
   "name": "python3"
  },
  "language_info": {
   "codemirror_mode": {
    "name": "ipython",
    "version": 3
   },
   "file_extension": ".py",
   "mimetype": "text/x-python",
   "name": "python",
   "nbconvert_exporter": "python",
   "pygments_lexer": "ipython3",
   "version": "3.8.8"
  }
 },
 "nbformat": 4,
 "nbformat_minor": 5
}
